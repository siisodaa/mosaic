{
 "cells": [
  {
   "cell_type": "code",
   "execution_count": null,
   "id": "21bbf8ad-99ce-4cab-b0c6-0bb2a75dd38a",
   "metadata": {},
   "outputs": [],
   "source": [
    "## Mosaic Image Generator\n",
    "\n",
    "This Python script generates a mosaic image from a pool of images by matching small sections of a target input image with the most similar images from the pool. It uses the average color of images to find the best matches and constructs a larger mosaic image.\n",
    "\n",
    "### Requirements\n",
    "- **Python Packages:** Make sure to install the required Python packages listed in `requirements.txt` using the following command:\n"
   ]
  },
  {
   "cell_type": "code",
   "execution_count": null,
   "id": "5cf5aeec-eb47-43dd-8e2d-d2840942d42e",
   "metadata": {},
   "outputs": [],
   "source": [
    "\n",
    "### File and Folder Structure\n",
    "- **data/input.jpg:** This is the target image for which the mosaic will be generated. Update the `input_path` in the `Options` class if your target image is located elsewhere or has a different name.\n",
    "- **data/output.jpg:** This is the path where the resulting mosaic image will be saved. Update the `output_path` in the `Options` class if you wish to change the location or name of the output file.\n",
    "- **jds:** This folder should contain the pool of images used to create the mosaic. Each image in this folder will be considered as a potential part of the mosaic. Ensure that this folder has enough images to cover the entire mosaic; otherwise, the script will terminate with an error indicating insufficient images. Update the `pool_path` in the `Options` class to change the folder path.\n",
    "\n",
    "### Running the Script\n",
    "After setting up your environment and ensuring all paths are correctly set in the `Options` class, run the script from the command line or a Python environment. The script will process the images and save the resulting mosaic to the specified output path.\n",
    "\n",
    "### Notes\n",
    "- The script includes a progress bar via `tqdm` to indicate the progress of the mosaic generation.\n",
    "- Adjustments may be necessary for the `stride` parameter in the `Options` class depending on the size of the input images and the desired granularity of the mosaic."
   ]
  },
  {
   "cell_type": "code",
   "execution_count": 13,
   "id": "fc166ae5-7f6e-4018-9826-973e89d1492e",
   "metadata": {},
   "outputs": [
    {
     "name": "stderr",
     "output_type": "stream",
     "text": [
      "Reading images:  94%|███████████████████████▍ | 594/632 [00:08<00:00, 83.69it/s]libpng warning: iCCP: known incorrect sRGB profile\n",
      "Reading images: 100%|█████████████████████████| 632/632 [00:10<00:00, 60.58it/s]\n",
      "Generating mosaic: 100%|████████████████████| 598/598 [00:00<00:00, 2986.30it/s]"
     ]
    },
    {
     "name": "stdout",
     "output_type": "stream",
     "text": [
      "Final image successfully saved to data/output.jpg\n"
     ]
    },
    {
     "name": "stderr",
     "output_type": "stream",
     "text": [
      "\n"
     ]
    }
   ],
   "source": [
    "import cv2\n",
    "import numpy as np\n",
    "import os\n",
    "from itertools import product\n",
    "from tqdm import tqdm\n",
    "\n",
    "class Options:\n",
    "    def __init__(self, input_path=\"data/input.jpg\", output_path=\"data/output.jpg\", pool_path=\"jds\", stride=35):\n",
    "        self.input = input_path\n",
    "        self.output = output_path\n",
    "        self.pool = pool_path\n",
    "        self.stride = stride\n",
    "\n",
    "def get_component_images(path, size):\n",
    "    images = []\n",
    "    avg_colors = []\n",
    "    all_files = os.listdir(path)\n",
    "    image_paths = [os.path.join(path, f) for f in all_files if os.path.isfile(os.path.join(path, f))]\n",
    "    for image_path in tqdm(image_paths, desc=\"Reading images\"):\n",
    "        image = cv2.imread(image_path, cv2.IMREAD_COLOR)\n",
    "        if image is not None:\n",
    "            image = cv2.resize(image, (size, size))\n",
    "            images.append(image)\n",
    "            avg_colors.append(np.mean(image, axis=(0, 1)))\n",
    "    return images, np.array(avg_colors)\n",
    "\n",
    "def calculate_max_dimensions(opt, input_image):\n",
    "    input_height, input_width, _ = input_image.shape\n",
    "    max_width = input_width // opt.stride * opt.stride\n",
    "    max_height = input_height // opt.stride * opt.stride\n",
    "    return max_width, max_height\n",
    "\n",
    "def calculate_required_images(opt, input_image):\n",
    "    max_width, max_height = calculate_max_dimensions(opt, input_image)\n",
    "    num_horizontal_tiles = max_width // opt.stride\n",
    "    num_vertical_tiles = max_height // opt.stride\n",
    "    return num_horizontal_tiles * num_vertical_tiles\n",
    "\n",
    "def main(opt):\n",
    "    try:\n",
    "        os.makedirs(\"output_snapshots\", exist_ok=True)\n",
    "        input_image = cv2.imread(opt.input, cv2.IMREAD_COLOR)\n",
    "        if input_image is None:\n",
    "            raise ValueError(f\"Failed to load input image from {opt.input}\")\n",
    "\n",
    "        required_images = calculate_required_images(opt, input_image)\n",
    "        available_images = len([f for f in os.listdir(opt.pool) if os.path.isfile(os.path.join(opt.pool, f))])\n",
    "\n",
    "        if available_images < required_images:\n",
    "            print(f\"Insufficient images to create the mosaic. Required: {required_images}, Available: {available_images}\")\n",
    "            return\n",
    "\n",
    "        max_width, max_height = calculate_max_dimensions(opt, input_image)\n",
    "        blank_image = np.zeros((max_height, max_width, 3), np.uint8)\n",
    "        images, avg_colors = get_component_images(opt.pool, opt.stride)\n",
    "\n",
    "        used_indices = set()\n",
    "        total_steps = required_images\n",
    "        progress_bar = tqdm(total=total_steps, desc=\"Generating mosaic\")\n",
    "\n",
    "        for i, j in product(range(0, max_width, opt.stride), range(0, max_height, opt.stride)):\n",
    "            target_section = input_image[j:j+opt.stride, i:i+opt.stride]\n",
    "            # Adjust the darkness threshold or remove this check as needed\n",
    "            if np.mean(target_section) < 30:\n",
    "                progress_bar.update(1)\n",
    "                continue\n",
    "\n",
    "            best_match_idx = None\n",
    "            min_dist = float('inf')\n",
    "            target_color = np.mean(target_section, axis=(0, 1))\n",
    "\n",
    "            for idx, color in enumerate(avg_colors):\n",
    "                if idx not in used_indices:\n",
    "                    dist = np.linalg.norm(color - target_color)\n",
    "                    if dist < min_dist:\n",
    "                        min_dist = dist\n",
    "                        best_match_idx = idx\n",
    "\n",
    "            if best_match_idx is not None:\n",
    "                blank_image[j:j+opt.stride, i:i+opt.stride] = images[best_match_idx]\n",
    "                used_indices.add(best_match_idx)\n",
    "\n",
    "            progress_bar.update(1)\n",
    "\n",
    "        cv2.imwrite(opt.output, blank_image)\n",
    "        print(f\"Final image successfully saved to {opt.output}\")\n",
    "    except Exception as e:\n",
    "        print(f\"Error occurred: {e}\")\n",
    "    finally:\n",
    "        if 'progress_bar' in locals():\n",
    "            progress_bar.close()\n",
    "\n",
    "# Update these paths and parameters as needed\n",
    "opt = Options(input_path=\"data/input.jpg\", output_path=\"data/output.jpg\", pool_path=\"jds\", stride=35)\n",
    "main(opt)"
   ]
  }
 ],
 "metadata": {
  "kernelspec": {
   "display_name": "Python 3 (ipykernel)",
   "language": "python",
   "name": "python3"
  },
  "language_info": {
   "codemirror_mode": {
    "name": "ipython",
    "version": 3
   },
   "file_extension": ".py",
   "mimetype": "text/x-python",
   "name": "python",
   "nbconvert_exporter": "python",
   "pygments_lexer": "ipython3",
   "version": "3.11.5"
  }
 },
 "nbformat": 4,
 "nbformat_minor": 5
}
